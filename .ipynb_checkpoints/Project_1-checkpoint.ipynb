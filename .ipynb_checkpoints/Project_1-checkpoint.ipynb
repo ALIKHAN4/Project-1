{
 "cells": [
  {
   "cell_type": "markdown",
   "id": "40f32460",
   "metadata": {},
   "source": [
    "# Number Guessing game"
   ]
  },
  {
   "cell_type": "code",
   "execution_count": 30,
   "id": "f7084b7f",
   "metadata": {},
   "outputs": [
    {
     "name": "stdout",
     "output_type": "stream",
     "text": [
      "Welcome to the number guessing game!\n",
      "\n",
      "You have to guess the number within ten attempts\n",
      "\n",
      "Enter your name please: Aziz\n",
      "Attempt 1: Guess the number\n",
      "18\n",
      "Incorrect Answer: You are very close. 9 attempts left. Try again!\n",
      "\n",
      "Attempt 2: Guess the number\n",
      "15\n",
      "Incorrect Answer: You are very close. 8 attempts left. Try again!\n",
      "\n",
      "Attempt 3: Guess the number\n",
      "12\n",
      "Incorrect Answer: You are very close. 7 attempts left. Try again!\n",
      "\n",
      "Attempt 4: Guess the number\n",
      "4\n",
      "Incorrect Answer: You are too far. 6 attempts left. Try again!\n",
      "\n",
      "Attempt 5: Guess the number\n",
      "1\n",
      "Incorrect Answer: You are too far. 5 attempts left. Try again!\n",
      "\n",
      "Attempt 6: Guess the number\n",
      "20\n",
      "Congratulations, you have won the game!\n",
      "\n",
      "To play again, write 'Yes'; to quit, write 'No'\n",
      "No\n",
      "Thank you for playing this game.\n",
      "\n"
     ]
    }
   ],
   "source": [
    "import random\n",
    "\n",
    "while True:\n",
    "    print('Welcome to the number guessing game!\\n\\nYou have to guess the number within ten attempts\\n')\n",
    "    name = input(\"Enter your name please: \")\n",
    "    num = random.randint(1, 100)\n",
    "    counter = 1\n",
    "\n",
    "    while counter < 11:\n",
    "        try:\n",
    "            m = int(input(f'Attempt {counter}: Guess the number\\n'))\n",
    "\n",
    "            if m == num:\n",
    "                print('Congratulations, you have won the game!\\n')\n",
    "                a = input(\"To play again, write 'Yes'; to quit, write 'No'\\n\")\n",
    "\n",
    "                if a == 'Yes':\n",
    "                    num = random.randint(1, 100)\n",
    "                    counter = 1\n",
    "                    name = input('Enter your name again\\n')\n",
    "                    continue\n",
    "\n",
    "                elif a == 'No':\n",
    "                    print('Thank you for playing this game.\\n')\n",
    "                    break\n",
    "    \n",
    "        \n",
    "            elif m != num:\n",
    "                if abs(m - num) < 15:\n",
    "                    print(f'Incorrect Answer: You are very close. {10 - counter} attempts left. Try again!\\n')\n",
    "                else:\n",
    "                    print(f'Incorrect Answer: You are too far. {10 - counter} attempts left. Try again!\\n')\n",
    "\n",
    "                counter += 1\n",
    "        except ValueError:\n",
    "            print('Please write a valid number.')\n",
    "            continue\n",
    "    if a == 'No':\n",
    "        break\n",
    "\n",
    "    if m != num:\n",
    "        print(f'The game is over. The correct answer is {num}.\\n')\n",
    "\n",
    "        while True:\n",
    "            p = input('To play again, write \"Yes\"; to quit the game, write \"No\"\\n')\n",
    "            if p == \"Yes\" or p == \"No\":\n",
    "                if p == 'Yes':\n",
    "                    break\n",
    "                else:\n",
    "                    print('Thank you for playing this game!')\n",
    "                    break\n",
    "            else:\n",
    "                print('Write \"Yes\" or \"No\" only.')\n",
    "\n",
    "        if p == 'No':\n",
    "            break\n"
   ]
  },
  {
   "cell_type": "code",
   "execution_count": null,
   "id": "f079ff3a",
   "metadata": {},
   "outputs": [],
   "source": []
  },
  {
   "cell_type": "code",
   "execution_count": null,
   "id": "3525a71a",
   "metadata": {},
   "outputs": [],
   "source": []
  },
  {
   "cell_type": "code",
   "execution_count": null,
   "id": "f99dc539",
   "metadata": {},
   "outputs": [],
   "source": []
  }
 ],
 "metadata": {
  "kernelspec": {
   "display_name": "Python 3 (ipykernel)",
   "language": "python",
   "name": "python3"
  },
  "language_info": {
   "codemirror_mode": {
    "name": "ipython",
    "version": 3
   },
   "file_extension": ".py",
   "mimetype": "text/x-python",
   "name": "python",
   "nbconvert_exporter": "python",
   "pygments_lexer": "ipython3",
   "version": "3.9.13"
  }
 },
 "nbformat": 4,
 "nbformat_minor": 5
}
